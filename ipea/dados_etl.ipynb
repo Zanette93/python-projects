{
 "cells": [
  {
   "cell_type": "code",
   "execution_count": null,
   "id": "a9d85693",
   "metadata": {
    "title": "(Importa as bibliotecas necessárias)"
   },
   "outputs": [],
   "source": [
    "import pandas as pd\n",
    "import os\n",
    "import sqlalchemy"
   ]
  },
  {
   "cell_type": "code",
   "execution_count": null,
   "id": "d41ef83b",
   "metadata": {
    "lines_to_next_cell": 1,
    "title": "(Definir Dicionários de Regiões e Estados)"
   },
   "outputs": [],
   "source": [
    "# Define dicionário com regiões e seus respectivos estados\n",
    "regioes_brasil = {\n",
    "    'Norte': ['AC', 'AP', 'AM', 'PA', 'RO', 'RR', 'TO'],\n",
    "    'Nordeste': ['AL', 'BA', 'CE', 'MA', 'PB', 'PE', 'PI', 'RN', 'SE'],\n",
    "    'Centro-Oeste': ['DF', 'GO', 'MT', 'MS'],\n",
    "    'Sudeste': ['ES', 'MG', 'RJ', 'SP'],\n",
    "    'Sul': ['PR', 'RS', 'SC']\n",
    "}\n",
    "\n",
    "# Cria dicionário que mapeia cada estado para sua respectiva região\n",
    "estado_para_regiao = {estado: regiao for regiao, estados in regioes_brasil.items() for estado in estados}"
   ]
  },
  {
   "cell_type": "code",
   "execution_count": null,
   "id": "c949521a",
   "metadata": {
    "lines_to_next_cell": 1,
    "title": "(Importar e Tratar Dados)"
   },
   "outputs": [],
   "source": [
    "# Define função para importar e tratar dados de homicídios\n",
    "def import_etl_hom(hom: str):\n",
    "    \"\"\"Importa e trata dados de homicídios de um arquivo CSV.\"\"\"\n",
    "    name_hom = hom.split(\"/\")[-1].split(\".\")[0]\n",
    "    name_hom = name_hom.replace(\"-\", \"_\")\n",
    "\n",
    "    df = (pd.read_csv(hom, sep=';')\n",
    "            .drop(columns=[\"cod\"])\n",
    "            .rename(columns={\"nome\": \"UF\",\n",
    "                             \"período\": \"Ano\",\n",
    "                             \"valor\": name_hom})\n",
    "            .set_index([\"UF\", \"Ano\"]))\n",
    "    \n",
    "    return df\n",
    "\n",
    "# Define função para importar e tratar dados de taxas\n",
    "def import_etl_tax(tax: str):\n",
    "    \"\"\"Importa e trata dados de taxas de um arquivo CSV.\"\"\"\n",
    "    name_tax = tax.split(\"/\")[-1].split(\".\")[0]\n",
    "    name_tax = name_tax.replace(\"-\", \"_\").replace(\"taxa_de_\", \"\")\n",
    "\n",
    "    df = (pd.read_csv(tax, sep=';')\n",
    "            .drop(columns=[\"cod\"])\n",
    "            .rename(columns={\"nome\": \"UF\",\n",
    "                             \"período\": \"Ano\",\n",
    "                             \"valor\": name_tax})\n",
    "            .set_index([\"UF\", \"Ano\"]))\n",
    "    \n",
    "    return df"
   ]
  },
  {
   "cell_type": "code",
   "execution_count": null,
   "id": "f990ee97",
   "metadata": {
    "title": "(Carregar Arquivos)"
   },
   "outputs": [],
   "source": [
    "# Define os caminhos para as pastas de dados\n",
    "path_hom = \"../ipea/dados_homicidios/\"\n",
    "path_tax = \"../ipea/dados_taxa_estados/\"\n",
    "\n",
    "# Lista os arquivos nas pastas\n",
    "files_hom = os.listdir(path_hom)\n",
    "files_tax = os.listdir(path_tax)"
   ]
  },
  {
   "cell_type": "code",
   "execution_count": null,
   "id": "a874f9f8",
   "metadata": {
    "title": "(Compilar DataFrames)"
   },
   "outputs": [],
   "source": [
    "# Cria listas para armazenar os DataFrames de homicídios e taxas\n",
    "dfs_hom = []\n",
    "dfs_tax = []\n",
    "\n",
    "# Itera sobre os arquivos de homicídios e taxas, importando e adicionando à lista\n",
    "for i in files_hom:\n",
    "    dfs_hom.append(import_etl_hom(path_hom + i))\n",
    "for i in files_tax:\n",
    "    dfs_tax.append(import_etl_tax(path_tax + i))\n",
    "\n",
    "# Concatena os DataFrames de homicídios e taxas\n",
    "df_compilado_hom = pd.concat(dfs_hom, axis=1).reset_index()\n",
    "df_compilado_hom = df_compilado_hom.set_index([\"UF\", \"Ano\"])\n",
    "\n",
    "df_compilado_tax = pd.concat(dfs_tax, axis=1).reset_index()\n",
    "df_compilado_tax = df_compilado_tax.set_index([\"UF\", \"Ano\"])"
   ]
  },
  {
   "cell_type": "code",
   "execution_count": null,
   "id": "46aa64a6",
   "metadata": {
    "title": "(Ajustar Estrutura dos DataFrames)"
   },
   "outputs": [],
   "source": [
    "# Ajusta a estrutura dos DataFrames para facilitar a análise\n",
    "df_compilado_hom = (df_compilado_hom.stack().reset_index()\n",
    "                 .rename(columns={\"level_2\": \"Tipo_homicidio\",\n",
    "                                  0: \"Qtd_homicidio\"}))\n",
    "\n",
    "df_compilado_tax = (df_compilado_tax.stack().reset_index()\n",
    "                     .rename(columns={\"level_2\": \"Tipo_homicidio\",\n",
    "                                      0: \"Taxa_homicidio\"}))"
   ]
  },
  {
   "cell_type": "code",
   "execution_count": null,
   "id": "86172950",
   "metadata": {
    "title": "(Combinar DataFrames)"
   },
   "outputs": [],
   "source": [
    "# Combina os DataFrames de homicídios e taxas\n",
    "df_final = pd.merge(df_compilado_hom, df_compilado_tax, on=[\"UF\", \"Ano\", \"Tipo_homicidio\"], how=\"outer\")\n",
    "\n",
    "# Adiciona coluna 'Regiao' usando o dicionário 'estado_para_regiao'\n",
    "df_final['Regiao'] = df_final['UF'].map(estado_para_regiao)\n",
    "\n",
    "# Seleciona as colunas desejadas\n",
    "df_final = df_final[['Regiao', 'UF', 'Ano', 'Tipo_homicidio', 'Qtd_homicidio', 'Taxa_homicidio']]"
   ]
  },
  {
   "cell_type": "code",
   "execution_count": null,
   "id": "e3f44365",
   "metadata": {
    "title": "(Salvar Dados)"
   },
   "outputs": [],
   "source": [
    "# Salva o DataFrame em um arquivo CSV\n",
    "df_final.to_csv(\"../ipea/homicidios.csv\", sep=\";\", index=False)\n",
    "\n",
    "# Cria conexão com banco de dados SQLite\n",
    "engine = sqlalchemy.create_engine(\"sqlite:///../ipea/database.db\")\n",
    "\n",
    "# Salva o DataFrame em uma tabela no banco de dados\n",
    "df_final.to_sql('homicidios', engine, if_exists='replace', index=False)"
   ]
  },
  {
   "cell_type": "code",
   "execution_count": null,
   "id": "0d13fe08",
   "metadata": {
    "title": "(Analisar Dados)"
   },
   "outputs": [],
   "source": [
    "# Exibe informações sobre os valores nulos\n",
    "df_final.isnull().sum()"
   ]
  },
  {
   "cell_type": "code",
   "execution_count": null,
   "id": "0304e2ac",
   "metadata": {
    "title": "(Estatísticas Descritivas)"
   },
   "outputs": [],
   "source": [
    "# Calcula estatísticas descritivas do DataFrame\n",
    "df_final.describe()"
   ]
  },
  {
   "cell_type": "code",
   "execution_count": null,
   "id": "e399dbb6",
   "metadata": {
    "title": "(Informações do DataFrame)"
   },
   "outputs": [],
   "source": [
    "# Exibe informações sobre o DataFrame\n",
    "df_final.info()"
   ]
  }
 ],
 "metadata": {
  "jupytext": {
   "cell_metadata_filter": "title,-all",
   "main_language": "python",
   "notebook_metadata_filter": "-all"
  }
 },
 "nbformat": 4,
 "nbformat_minor": 5
}
